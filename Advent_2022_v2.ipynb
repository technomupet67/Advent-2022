{
 "cells": [
  {
   "cell_type": "code",
   "execution_count": 1,
   "metadata": {},
   "outputs": [],
   "source": [
    "# This is a notebook for the 2022 Advent of Code"
   ]
  },
  {
   "cell_type": "code",
   "execution_count": null,
   "metadata": {},
   "outputs": [],
   "source": [
    "#######\n",
    "# Day 1\n",
    "#######"
   ]
  },
  {
   "cell_type": "code",
   "execution_count": 32,
   "metadata": {},
   "outputs": [],
   "source": [
    "# Read the data in from the file\n",
    "def get_data(): \n",
    "  with open(\"input_day1.txt\", \"r\") as txt_file:\n",
    "    return txt_file.readlines()\n",
    "\n",
    "data=get_data()\n",
    "data.append('\\n') # this is to make sure the last line is read\n"
   ]
  },
  {
   "cell_type": "code",
   "execution_count": 33,
   "metadata": {},
   "outputs": [
    {
     "name": "stdout",
     "output_type": "stream",
     "text": [
      "67658\n"
     ]
    }
   ],
   "source": [
    "# read input_day1.txt and return a list of strings\n",
    "# each elf has a board with a list of ingredients caloric values\n",
    "def boards(data):\n",
    "  boards=[]\n",
    "  board=[]\n",
    "  for line in data:\n",
    "    if line == '\\n':\n",
    "      boards.append(board)\n",
    "      board=[]\n",
    "    else:\n",
    "      board.append(line.strip())\n",
    "  return boards\n",
    "\n",
    "# the the elfs boards with the calories of their items\n",
    "all_the_boards = boards(data)\n",
    "\n",
    "# find the board with the most calories\n",
    "def find_max_calories(all_the_boards):\n",
    "  elf_cal=[]\n",
    "  max_calories = 0\n",
    "  for board in all_the_boards:\n",
    "    calories = 0\n",
    "    for item in board:\n",
    "      calories += int(item)\n",
    "    elf_cal.append(calories)\n",
    "    if calories > max_calories:\n",
    "      max_calories = calories\n",
    "  return max_calories,elf_cal\n",
    "\n",
    "# find the board with the most calories\n",
    "max_calories, elf_cal = find_max_calories(all_the_boards)\n",
    "\n",
    "print(max_calories)\n"
   ]
  },
  {
   "cell_type": "code",
   "execution_count": 36,
   "metadata": {},
   "outputs": [],
   "source": [
    "elf_cal_sorted = sorted(elf_cal, reverse=True)"
   ]
  },
  {
   "cell_type": "code",
   "execution_count": 38,
   "metadata": {},
   "outputs": [
    {
     "name": "stdout",
     "output_type": "stream",
     "text": [
      "200158\n"
     ]
    }
   ],
   "source": [
    "total_first_3 = elf_cal_sorted[0] + elf_cal_sorted[1] + elf_cal_sorted[2]\n",
    "print(total_first_3)"
   ]
  },
  {
   "cell_type": "code",
   "execution_count": null,
   "metadata": {},
   "outputs": [],
   "source": []
  }
 ],
 "metadata": {
  "kernelspec": {
   "display_name": "Python 3.7.6",
   "language": "python",
   "name": "python3"
  },
  "language_info": {
   "codemirror_mode": {
    "name": "ipython",
    "version": 3
   },
   "file_extension": ".py",
   "mimetype": "text/x-python",
   "name": "python",
   "nbconvert_exporter": "python",
   "pygments_lexer": "ipython3",
   "version": "3.7.6"
  },
  "orig_nbformat": 4,
  "vscode": {
   "interpreter": {
    "hash": "40d3a090f54c6569ab1632332b64b2c03c39dcf918b08424e98f38b5ae0af88f"
   }
  }
 },
 "nbformat": 4,
 "nbformat_minor": 2
}
